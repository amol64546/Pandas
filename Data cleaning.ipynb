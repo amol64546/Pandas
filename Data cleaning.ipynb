{
 "cells": [
  {
   "cell_type": "code",
   "execution_count": null,
   "id": "2b629442",
   "metadata": {},
   "outputs": [],
   "source": [
    "# Empty cells\n",
    "# Wrong format\n",
    "# Wrong Data\n",
    "# Duplicate rows"
   ]
  },
  {
   "cell_type": "code",
   "execution_count": 79,
   "id": "11d93ec8",
   "metadata": {},
   "outputs": [
    {
     "name": "stdout",
     "output_type": "stream",
     "text": [
      "    Duration           Date   Pulse  Maxpulse  Caories\n",
      "0         60   '2020/12/01'     110       130    409.1\n",
      "1         60   '2020/12/02'     117       145    479.0\n",
      "2         60   '2020/12/03'     103       135    340.0\n",
      "3         45   '2020/12/04'     109       175    282.4\n",
      "4         45   '2020/12/05'     117       148    406.0\n",
      "5         60   '2020/12/06'     102       127    300.0\n",
      "6         60   '2020/12/07'     110       136    374.0\n",
      "7        450   '2020/12/08'     104       134    253.3\n",
      "8         30   '2020/12/09'     109       133    195.1\n",
      "9         60   '2020/12/10'      98       124    269.0\n",
      "10        60   '2020/12/11'     103       147    329.3\n",
      "11        60   '2020/12/12'     100       120    250.7\n",
      "12        60   '2020/12/12'     100       120    250.7\n",
      "13        60   '2020/12/13'     106       128    345.3\n",
      "14        60   '2020/12/14'     104       132    379.3\n",
      "15        60   '2020/12/15'      98       123    275.0\n",
      "16        60   '2020/12/16'      98       120    215.2\n",
      "17        60   '2020/12/17'     100       120    300.0\n",
      "18        45   '2020/12/18'      90       112      NaN\n",
      "19        60   '2020/12/19'     103       123    323.0\n",
      "20        45   '2020/12/20'      97       125    243.0\n",
      "21        60   '2020/12/21'     108       131    364.2\n",
      "22        45            NaN     100       119    282.0\n",
      "23        60   '2020/12/23'     130       101    300.0\n",
      "24        45   '2020/12/24'     105       132    246.0\n",
      "25        60   '2020/12/25'     102       126    334.5\n",
      "26        60       20201226     100       120    250.0\n",
      "27        60   '2020/12/27'      92       118    241.0\n",
      "28        60   '2020/12/28'     103       132      NaN\n",
      "29        60   '2020/12/29'     100       132    280.0\n",
      "30        60   '2020/12/30'     102       129    380.3\n",
      "31        60   '2020/12/31'      92       115    243.0\n"
     ]
    }
   ],
   "source": [
    "import pandas as pd\n",
    "df = pd.read_csv('data.csv')\n",
    "print(df.to_string())"
   ]
  },
  {
   "cell_type": "markdown",
   "id": "841b637f",
   "metadata": {},
   "source": [
    "# Empty Cells"
   ]
  },
  {
   "cell_type": "code",
   "execution_count": 92,
   "id": "ea3499cc",
   "metadata": {},
   "outputs": [
    {
     "name": "stdout",
     "output_type": "stream",
     "text": [
      "<class 'pandas.core.frame.DataFrame'>\n",
      "Int64Index: 29 entries, 0 to 31\n",
      "Data columns (total 5 columns):\n",
      " #   Column    Non-Null Count  Dtype  \n",
      "---  ------    --------------  -----  \n",
      " 0   Duration  29 non-null     int64  \n",
      " 1   Date      29 non-null     object \n",
      " 2    Pulse    29 non-null     int64  \n",
      " 3   Maxpulse  29 non-null     int64  \n",
      " 4   Caories   29 non-null     float64\n",
      "dtypes: float64(1), int64(3), object(1)\n",
      "memory usage: 1.4+ KB\n",
      "None\n"
     ]
    }
   ],
   "source": [
    "new_df = df.dropna()\n",
    "#df.dropna(inplace=True)\n",
    "print(new_df.info())"
   ]
  },
  {
   "cell_type": "code",
   "execution_count": 93,
   "id": "2b988d20",
   "metadata": {},
   "outputs": [
    {
     "name": "stdout",
     "output_type": "stream",
     "text": [
      "<class 'pandas.core.frame.DataFrame'>\n",
      "RangeIndex: 32 entries, 0 to 31\n",
      "Data columns (total 5 columns):\n",
      " #   Column    Non-Null Count  Dtype  \n",
      "---  ------    --------------  -----  \n",
      " 0   Duration  32 non-null     int64  \n",
      " 1   Date      32 non-null     object \n",
      " 2    Pulse    32 non-null     int64  \n",
      " 3   Maxpulse  32 non-null     int64  \n",
      " 4   Caories   32 non-null     float64\n",
      "dtypes: float64(1), int64(3), object(1)\n",
      "memory usage: 1.4+ KB\n",
      "None\n"
     ]
    }
   ],
   "source": [
    "new_df2 = df.fillna(-1)\n",
    "print(new_df2.info())"
   ]
  },
  {
   "cell_type": "code",
   "execution_count": 113,
   "id": "a5755026",
   "metadata": {},
   "outputs": [
    {
     "name": "stdout",
     "output_type": "stream",
     "text": [
      "304.68\n",
      "    Duration           Date   Pulse  Maxpulse  Calories\n",
      "0         60   '2020/12/01'     110       130    409.10\n",
      "1         60   '2020/12/02'     117       145    479.00\n",
      "2         60   '2020/12/03'     103       135    340.00\n",
      "3         45   '2020/12/04'     109       175    282.40\n",
      "4         45   '2020/12/05'     117       148    406.00\n",
      "5         60   '2020/12/06'     102       127    300.00\n",
      "6         60   '2020/12/07'     110       136    374.00\n",
      "7        450   '2020/12/08'     104       134    253.30\n",
      "8         30   '2020/12/09'     109       133    195.10\n",
      "9         60   '2020/12/10'      98       124    269.00\n",
      "10        60   '2020/12/11'     103       147    329.30\n",
      "11        60   '2020/12/12'     100       120    250.70\n",
      "12        60   '2020/12/12'     100       120    250.70\n",
      "13        60   '2020/12/13'     106       128    345.30\n",
      "14        60   '2020/12/14'     104       132    379.30\n",
      "15        60   '2020/12/15'      98       123    275.00\n",
      "16        60   '2020/12/16'      98       120    215.20\n",
      "17        60   '2020/12/17'     100       120    300.00\n",
      "18        45   '2020/12/18'      90       112    304.68\n",
      "19        60   '2020/12/19'     103       123    323.00\n",
      "20        45   '2020/12/20'      97       125    243.00\n",
      "21        60   '2020/12/21'     108       131    364.20\n",
      "22        45            NaN     100       119    282.00\n",
      "23        60   '2020/12/23'     130       101    300.00\n",
      "24        45   '2020/12/24'     105       132    246.00\n",
      "25        60   '2020/12/25'     102       126    334.50\n",
      "26        60       20201226     100       120    250.00\n",
      "27        60   '2020/12/27'      92       118    241.00\n",
      "28        60   '2020/12/28'     103       132    304.68\n",
      "29        60   '2020/12/29'     100       132    280.00\n",
      "30        60   '2020/12/30'     102       129    380.30\n",
      "31        60   '2020/12/31'      92       115    243.00\n"
     ]
    }
   ],
   "source": [
    "new_df3 = df.copy(deep=True)  # by default, deep=True\n",
    "mean = new_df3 [\"Calories\"].mean() # median()  or mode()\n",
    "print(mean)\n",
    "new_df3 [\"Calories\"].fillna(mean,inplace=True)\n",
    "print(new_df3 .to_string())"
   ]
  },
  {
   "cell_type": "markdown",
   "id": "48fbb774",
   "metadata": {},
   "source": [
    "# Wrong Format"
   ]
  },
  {
   "cell_type": "code",
   "execution_count": 115,
   "id": "082978cf",
   "metadata": {},
   "outputs": [
    {
     "name": "stdout",
     "output_type": "stream",
     "text": [
      "0      '2020/12/01'\n",
      "1      '2020/12/02'\n",
      "2      '2020/12/03'\n",
      "3      '2020/12/04'\n",
      "4      '2020/12/05'\n",
      "5      '2020/12/06'\n",
      "6      '2020/12/07'\n",
      "7      '2020/12/08'\n",
      "8      '2020/12/09'\n",
      "9      '2020/12/10'\n",
      "10     '2020/12/11'\n",
      "11     '2020/12/12'\n",
      "12     '2020/12/12'\n",
      "13     '2020/12/13'\n",
      "14     '2020/12/14'\n",
      "15     '2020/12/15'\n",
      "16     '2020/12/16'\n",
      "17     '2020/12/17'\n",
      "18     '2020/12/18'\n",
      "19     '2020/12/19'\n",
      "20     '2020/12/20'\n",
      "21     '2020/12/21'\n",
      "22              NaN\n",
      "23     '2020/12/23'\n",
      "24     '2020/12/24'\n",
      "25     '2020/12/25'\n",
      "26         20201226\n",
      "27     '2020/12/27'\n",
      "28     '2020/12/28'\n",
      "29     '2020/12/29'\n",
      "30     '2020/12/30'\n",
      "31     '2020/12/31'\n",
      "Name: Date, dtype: object\n"
     ]
    }
   ],
   "source": [
    "df = pd.read_csv('data.csv')\n",
    "print(df['Date'])"
   ]
  },
  {
   "cell_type": "code",
   "execution_count": 117,
   "id": "66f68fde",
   "metadata": {},
   "outputs": [
    {
     "name": "stdout",
     "output_type": "stream",
     "text": [
      "0    2020-12-01\n",
      "1    2020-12-02\n",
      "2    2020-12-03\n",
      "3    2020-12-04\n",
      "4    2020-12-05\n",
      "5    2020-12-06\n",
      "6    2020-12-07\n",
      "7    2020-12-08\n",
      "8    2020-12-09\n",
      "9    2020-12-10\n",
      "10   2020-12-11\n",
      "11   2020-12-12\n",
      "12   2020-12-12\n",
      "13   2020-12-13\n",
      "14   2020-12-14\n",
      "15   2020-12-15\n",
      "16   2020-12-16\n",
      "17   2020-12-17\n",
      "18   2020-12-18\n",
      "19   2020-12-19\n",
      "20   2020-12-20\n",
      "21   2020-12-21\n",
      "22          NaT\n",
      "23   2020-12-23\n",
      "24   2020-12-24\n",
      "25   2020-12-25\n",
      "26   2020-12-26\n",
      "27   2020-12-27\n",
      "28   2020-12-28\n",
      "29   2020-12-29\n",
      "30   2020-12-30\n",
      "31   2020-12-31\n",
      "Name: Date, dtype: datetime64[ns]\n"
     ]
    }
   ],
   "source": [
    "df['Date'] = pd.to_datetime(df['Date'])\n",
    "print(df['Date'])"
   ]
  },
  {
   "cell_type": "code",
   "execution_count": 118,
   "id": "e412c261",
   "metadata": {},
   "outputs": [
    {
     "name": "stdout",
     "output_type": "stream",
     "text": [
      "0    2020-12-01\n",
      "1    2020-12-02\n",
      "2    2020-12-03\n",
      "3    2020-12-04\n",
      "4    2020-12-05\n",
      "5    2020-12-06\n",
      "6    2020-12-07\n",
      "7    2020-12-08\n",
      "8    2020-12-09\n",
      "9    2020-12-10\n",
      "10   2020-12-11\n",
      "11   2020-12-12\n",
      "12   2020-12-12\n",
      "13   2020-12-13\n",
      "14   2020-12-14\n",
      "15   2020-12-15\n",
      "16   2020-12-16\n",
      "17   2020-12-17\n",
      "18   2020-12-18\n",
      "19   2020-12-19\n",
      "20   2020-12-20\n",
      "21   2020-12-21\n",
      "23   2020-12-23\n",
      "24   2020-12-24\n",
      "25   2020-12-25\n",
      "26   2020-12-26\n",
      "27   2020-12-27\n",
      "28   2020-12-28\n",
      "29   2020-12-29\n",
      "30   2020-12-30\n",
      "31   2020-12-31\n",
      "Name: Date, dtype: datetime64[ns]\n"
     ]
    }
   ],
   "source": [
    "df.dropna(subset=['Date'],inplace=True)\n",
    "print(df['Date'])"
   ]
  },
  {
   "cell_type": "markdown",
   "id": "54fcc05b",
   "metadata": {},
   "source": [
    "# Wrong Data"
   ]
  },
  {
   "cell_type": "code",
   "execution_count": 129,
   "id": "412eb817",
   "metadata": {},
   "outputs": [
    {
     "name": "stdout",
     "output_type": "stream",
     "text": [
      "    Duration           Date   Pulse  Maxpulse  Calories\n",
      "0         60   '2020/12/01'     110       130     409.1\n",
      "1         60   '2020/12/02'     117       145     479.0\n",
      "2         60   '2020/12/03'     103       135     340.0\n",
      "3         45   '2020/12/04'     109       175     282.4\n",
      "4         45   '2020/12/05'     117       148     406.0\n",
      "5         60   '2020/12/06'     102       127     300.0\n",
      "6         60   '2020/12/07'     110       136     374.0\n",
      "7        450   '2020/12/08'     104       134     253.3\n",
      "8         30   '2020/12/09'     109       133     195.1\n",
      "9         60   '2020/12/10'      98       124     269.0\n",
      "10        60   '2020/12/11'     103       147     329.3\n",
      "11        60   '2020/12/12'     100       120     250.7\n",
      "12        60   '2020/12/12'     100       120     250.7\n",
      "13        60   '2020/12/13'     106       128     345.3\n",
      "14        60   '2020/12/14'     104       132     379.3\n",
      "15        60   '2020/12/15'      98       123     275.0\n",
      "16        60   '2020/12/16'      98       120     215.2\n",
      "17        60   '2020/12/17'     100       120     300.0\n",
      "18        45   '2020/12/18'      90       112       NaN\n",
      "19        60   '2020/12/19'     103       123     323.0\n",
      "20        45   '2020/12/20'      97       125     243.0\n",
      "21        60   '2020/12/21'     108       131     364.2\n",
      "22        45            NaN     100       119     282.0\n",
      "23        60   '2020/12/23'     130       101     300.0\n",
      "24        45   '2020/12/24'     105       132     246.0\n",
      "25        60   '2020/12/25'     102       126     334.5\n",
      "26        60       20201226     100       120     250.0\n",
      "27        60   '2020/12/27'      92       118     241.0\n",
      "28        60   '2020/12/28'     103       132       NaN\n",
      "29        60   '2020/12/29'     100       132     280.0\n",
      "30        60   '2020/12/30'     102       129     380.3\n",
      "31        60   '2020/12/31'      92       115     243.0\n"
     ]
    }
   ],
   "source": [
    "df = pd.read_csv('data.csv')\n",
    "print(df.to_string())"
   ]
  },
  {
   "cell_type": "code",
   "execution_count": 130,
   "id": "0e58c551",
   "metadata": {},
   "outputs": [
    {
     "name": "stdout",
     "output_type": "stream",
     "text": [
      "Before: 450\n",
      "After: 45\n"
     ]
    }
   ],
   "source": [
    "print(\"Before:\",df.loc[7,'Duration'])\n",
    "df.loc[7,'Duration'] = 45\n",
    "print(\"After:\",df.loc[7,'Duration'])"
   ]
  },
  {
   "cell_type": "code",
   "execution_count": 132,
   "id": "95a51da9",
   "metadata": {},
   "outputs": [
    {
     "name": "stdout",
     "output_type": "stream",
     "text": [
      "Before: 450\n",
      "After: 120\n"
     ]
    }
   ],
   "source": [
    "df = pd.read_csv('data.csv')\n",
    "print(\"Before:\",df.loc[7,'Duration'])\n",
    "for x in df.index:\n",
    "    if df.loc[x,\"Duration\"] > 120:\n",
    "        df.loc[x,\"Duration\"] = 120\n",
    "print(\"After:\",df.loc[7,'Duration'])"
   ]
  },
  {
   "cell_type": "code",
   "execution_count": 134,
   "id": "70775a6b",
   "metadata": {},
   "outputs": [
    {
     "name": "stdout",
     "output_type": "stream",
     "text": [
      "    Duration           Date   Pulse  Maxpulse  Calories\n",
      "0         60   '2020/12/01'     110       130     409.1\n",
      "1         60   '2020/12/02'     117       145     479.0\n",
      "2         60   '2020/12/03'     103       135     340.0\n",
      "3         45   '2020/12/04'     109       175     282.4\n",
      "4         45   '2020/12/05'     117       148     406.0\n",
      "5         60   '2020/12/06'     102       127     300.0\n",
      "6         60   '2020/12/07'     110       136     374.0\n",
      "8         30   '2020/12/09'     109       133     195.1\n",
      "9         60   '2020/12/10'      98       124     269.0\n",
      "10        60   '2020/12/11'     103       147     329.3\n",
      "11        60   '2020/12/12'     100       120     250.7\n",
      "12        60   '2020/12/12'     100       120     250.7\n",
      "13        60   '2020/12/13'     106       128     345.3\n",
      "14        60   '2020/12/14'     104       132     379.3\n",
      "15        60   '2020/12/15'      98       123     275.0\n",
      "16        60   '2020/12/16'      98       120     215.2\n",
      "17        60   '2020/12/17'     100       120     300.0\n",
      "18        45   '2020/12/18'      90       112       NaN\n",
      "19        60   '2020/12/19'     103       123     323.0\n",
      "20        45   '2020/12/20'      97       125     243.0\n",
      "21        60   '2020/12/21'     108       131     364.2\n",
      "22        45            NaN     100       119     282.0\n",
      "23        60   '2020/12/23'     130       101     300.0\n",
      "24        45   '2020/12/24'     105       132     246.0\n",
      "25        60   '2020/12/25'     102       126     334.5\n",
      "26        60       20201226     100       120     250.0\n",
      "27        60   '2020/12/27'      92       118     241.0\n",
      "28        60   '2020/12/28'     103       132       NaN\n",
      "29        60   '2020/12/29'     100       132     280.0\n",
      "30        60   '2020/12/30'     102       129     380.3\n",
      "31        60   '2020/12/31'      92       115     243.0\n"
     ]
    }
   ],
   "source": [
    "df = pd.read_csv('data.csv')\n",
    "for x in df.index:\n",
    "    if df.loc[x,\"Duration\"] > 120:\n",
    "        df.drop(x, inplace=True)\n",
    "print(df.to_string())"
   ]
  },
  {
   "cell_type": "markdown",
   "id": "34c367b4",
   "metadata": {},
   "source": [
    "# Duplicate Rows"
   ]
  },
  {
   "cell_type": "code",
   "execution_count": 137,
   "id": "994c4945",
   "metadata": {},
   "outputs": [
    {
     "name": "stdout",
     "output_type": "stream",
     "text": [
      "0     False\n",
      "1     False\n",
      "2     False\n",
      "3     False\n",
      "4     False\n",
      "5     False\n",
      "6     False\n",
      "7     False\n",
      "8     False\n",
      "9     False\n",
      "10    False\n",
      "11    False\n",
      "12     True\n",
      "13    False\n",
      "14    False\n",
      "15    False\n",
      "16    False\n",
      "17    False\n",
      "18    False\n",
      "19    False\n",
      "20    False\n",
      "21    False\n",
      "22    False\n",
      "23    False\n",
      "24    False\n",
      "25    False\n",
      "26    False\n",
      "27    False\n",
      "28    False\n",
      "29    False\n",
      "30    False\n",
      "31    False\n",
      "dtype: bool\n"
     ]
    }
   ],
   "source": [
    "df = pd.read_csv('data.csv')\n",
    "print(df.duplicated())"
   ]
  },
  {
   "cell_type": "code",
   "execution_count": 140,
   "id": "fffde324",
   "metadata": {},
   "outputs": [
    {
     "name": "stdout",
     "output_type": "stream",
     "text": [
      "0     False\n",
      "1     False\n",
      "2     False\n",
      "3     False\n",
      "4     False\n",
      "5     False\n",
      "6     False\n",
      "7     False\n",
      "8     False\n",
      "9     False\n",
      "10    False\n",
      "11    False\n",
      "13    False\n",
      "14    False\n",
      "15    False\n",
      "16    False\n",
      "17    False\n",
      "18    False\n",
      "19    False\n",
      "20    False\n",
      "21    False\n",
      "22    False\n",
      "23    False\n",
      "24    False\n",
      "25    False\n",
      "26    False\n",
      "27    False\n",
      "28    False\n",
      "29    False\n",
      "30    False\n",
      "31    False\n",
      "dtype: bool\n"
     ]
    }
   ],
   "source": [
    "df.drop_duplicates(inplace=True)\n",
    "print(df.duplicated())"
   ]
  },
  {
   "cell_type": "code",
   "execution_count": null,
   "id": "a428cf55",
   "metadata": {},
   "outputs": [],
   "source": []
  }
 ],
 "metadata": {
  "kernelspec": {
   "display_name": "Python 3 (ipykernel)",
   "language": "python",
   "name": "python3"
  },
  "language_info": {
   "codemirror_mode": {
    "name": "ipython",
    "version": 3
   },
   "file_extension": ".py",
   "mimetype": "text/x-python",
   "name": "python",
   "nbconvert_exporter": "python",
   "pygments_lexer": "ipython3",
   "version": "3.10.6"
  }
 },
 "nbformat": 4,
 "nbformat_minor": 5
}
